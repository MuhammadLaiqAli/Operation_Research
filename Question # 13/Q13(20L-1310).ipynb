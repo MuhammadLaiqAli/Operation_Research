{
 "cells": [
  {
   "cell_type": "markdown",
   "id": "8ac8fa45-0f7b-4f7c-8657-cc95ff438717",
   "metadata": {},
   "source": [
    "## QUESTION 13 PULP SOLVER\n",
    "\n",
    "X1 = $ invested in first trust deeds\n",
    "\n",
    "X2 = $ invested in second trust deeds\n",
    "\n",
    "X3 = $ invested in third trust deeds\n",
    "\n",
    "X4 = $ invested in commercial trust deeds\n",
    "\n",
    "X5 = $ invested in a savings account\n",
    "\n",
    "X6 = Total $ invested in residential trust deeds\n",
    "\n",
    "X7 = Total $ invested in all trust deeds\n",
    "\n",
    "### MAXIMUM .0775X1 +.1125X2 +.1425X3 +.9875X4 +.0445X5\n",
    "\n",
    "### S.T.\n",
    "\n",
    "X1 + X2 + X3 + X4 + X5 = 68,000,000 (Total)\n",
    "\n",
    "X5 >= 5,000,000 (Save)\n",
    "\n",
    "X1 + X2 + X3 + - X6 = 0 (Res Tr.)\n",
    "\n",
    "X1 + X2 + X3 + X4 -X7 = 0 (Total Tr)\n",
    "\n",
    "X6 - .8X7 >= 0 (80 %Res.)\n",
    "\n",
    "X1 -.6X6 >= 0 (60 %First)\n",
    "\n",
    "4X1 + 6X2 + 9X3 + 3X4 <= 340,000,000 (*)\n",
    "\n",
    "All X's >= 0"
   ]
  },
  {
   "cell_type": "code",
   "execution_count": 1,
   "id": "ad6e4823-44bb-4650-bd47-736467303315",
   "metadata": {},
   "outputs": [
    {
     "name": "stdout",
     "output_type": "stream",
     "text": [
      "Status:  Optimal\n",
      "x1 = 30240000.0\n",
      "x2 = 66666.667\n",
      "x3 = 20093333.0\n",
      "x4 = 12600000.0\n",
      "x5 = 5000000.0\n",
      "x6 = 50400000.0\n",
      "x7 = 63000000.0\n",
      "The optimal value of the objective function is =  17879399.9525375\n"
     ]
    }
   ],
   "source": [
    "\n",
    "from pulp import*\n",
    "import matplotlib.pyplot as plt\n",
    "import numpy as np\n",
    "\n",
    "# create an object of a model\n",
    "prob = LpProblem(\"Simple_Lp_Problem\", LpMaximize)\n",
    "\n",
    "# Defining decision variables\n",
    "x1 = LpVariable(\"x1\",0)\n",
    "x2 = LpVariable(\"x2\",0)\n",
    "x3 = LpVariable(\"x3\",0)\n",
    "x4 = LpVariable(\"x4\",0)\n",
    "x5 = LpVariable(\"x5\",0)\n",
    "x6 = LpVariable(\"x6\",0)\n",
    "x7 = LpVariable(\"x7\",0)\n",
    "\n",
    "# Defining the objective Function\n",
    "prob += 0.0775*x1 + 0.1125*x2 + 0.1425*x3 + 0.9875*x4 + 0.0445*x5\n",
    "\n",
    "# Defining the constraints\n",
    "prob += 1*x1 + 1*x2 + 1*x3 + 1*x4 + 1*x5 == 68000000 , \"1st constraint\"\n",
    "prob += 1*x5 >= 5000000, \"2nd constraint\"\n",
    "prob += 1*x1 + 1*x2 + 1*x3 + -1*x6 == 0, \"3rd constraint\"\n",
    "prob += 1*x1 + 1*x2 + 1*x3 + 1*x4 - 1*x7 == 0, \"4th constraint\"\n",
    "prob += 1*x6 - 0.8*x7 >= 0 , \"5th constraint\"\n",
    "prob += 1*x1 -0.6*x6 >= 0, \"6th constraint\"\n",
    "prob += 4*x1 + 6*x2 + 9*x3 + 3*x4 <= 340000000 , \"7th constraint\"\n",
    "\n",
    "# solve the linear programming problem\n",
    "prob.solve()\n",
    "\n",
    "# print the result\n",
    "print(\"Status: \",LpStatus[prob.status])\n",
    "\n",
    "for v in prob.variables():\n",
    "    print(v.name, \"=\" , v.varValue)\n",
    "\n",
    "print(\"The optimal value of the objective function is = \", value(prob.objective))"
   ]
  }
 ],
 "metadata": {
  "kernelspec": {
   "display_name": "Python 3 (ipykernel)",
   "language": "python",
   "name": "python3"
  },
  "language_info": {
   "codemirror_mode": {
    "name": "ipython",
    "version": 3
   },
   "file_extension": ".py",
   "mimetype": "text/x-python",
   "name": "python",
   "nbconvert_exporter": "python",
   "pygments_lexer": "ipython3",
   "version": "3.11.0"
  }
 },
 "nbformat": 4,
 "nbformat_minor": 5
}
