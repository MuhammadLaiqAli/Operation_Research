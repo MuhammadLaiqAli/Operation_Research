{
 "cells": [
  {
   "cell_type": "markdown",
   "id": "79562396-6a7e-44fe-b0a1-632000d6ca7e",
   "metadata": {},
   "source": [
    "## QUESTION 6 PULP SOLVER\n",
    "\n",
    "X1 = number of 8-oz. portions of steak in the diet\n",
    "\n",
    "X2 = number of ounces of cheese in the diet\n",
    "\n",
    "X3 = number of apples in the diet\n",
    "\n",
    "X4 = number of 8-oz. portion of milk in the diet\n",
    "\n",
    "### MINIMUM: 51X1 + 9X2 + 1X3 + 8X4\n",
    "\n",
    "### S.T.\n",
    "\n",
    "692X1 + 110X2 + 81X3 + 150X4 >= 1410 (=1800-390 minimum calories)\n",
    "\n",
    "692X1 + 110X2 + 81X3 + 150X4 <= 1610 (=2000-390 maximum calories)\n",
    "\n",
    "57X1 + 6X2 + 1X3 + 8X4 >= 85 (=100-15 grams of protein)\n",
    "\n",
    "1X2 + 22X3 + 12X4 >= 25 (= 45-20 grams of carbs.)\n",
    "\n",
    "All X's >= 0"
   ]
  },
  {
   "cell_type": "code",
   "execution_count": 1,
   "id": "58ee4842-283f-4312-9812-9292db116523",
   "metadata": {},
   "outputs": [
    {
     "name": "stdout",
     "output_type": "stream",
     "text": [
      "Status:  Optimal\n",
      "x1 = 1.3949045\n",
      "x2 = 0.0\n",
      "x3 = 5.4904459\n",
      "x4 = 0.0\n",
      "The optimal value of the objective function is =  76.6305754\n"
     ]
    }
   ],
   "source": [
    "from pulp import*\n",
    "import matplotlib.pyplot as plt\n",
    "import numpy as np\n",
    "\n",
    "# create an object of a model\n",
    "prob = LpProblem(\"Simple_Lp_Problem\", LpMinimize)\n",
    "\n",
    "# Defining decision variables\n",
    "x1 = LpVariable(\"x1\",0)\n",
    "x2 = LpVariable(\"x2\",0)\n",
    "x3 = LpVariable(\"x3\",0)\n",
    "x4 = LpVariable(\"x4\",0)\n",
    "\n",
    "# Defining the objective Function\n",
    "prob += 51*x1 + 9*x2 + 1*x3 + 8*x4\n",
    "\n",
    "# Defining the constraints\n",
    "prob += 692*x1 + 110*x2 + 81*x3 + 150*x4 >= 1410, \"1st constraint\"\n",
    "prob += 692*x1 + 110*x2 + 81*x3 + 150*x4 <= 1610, \"2nd constraint\"\n",
    "prob += 57*x1 + 6*x2 + 1*x3  + 8*x4 >= 85, \"3rd constraint\"\n",
    "prob += 1*x2 + 22*x3 + 12*x4 >= 25, \"4th constraint\"\n",
    "\n",
    "# solve the linear programming problem\n",
    "prob.solve()\n",
    "\n",
    "# print the result\n",
    "print(\"Status: \",LpStatus[prob.status])\n",
    "\n",
    "for v in prob.variables():\n",
    "    print(v.name, \"=\" , v.varValue)\n",
    "    \n",
    "print(\"The optimal value of the objective function is = \", value(prob.objective))"
   ]
  }
 ],
 "metadata": {
  "kernelspec": {
   "display_name": "Python 3 (ipykernel)",
   "language": "python",
   "name": "python3"
  },
  "language_info": {
   "codemirror_mode": {
    "name": "ipython",
    "version": 3
   },
   "file_extension": ".py",
   "mimetype": "text/x-python",
   "name": "python",
   "nbconvert_exporter": "python",
   "pygments_lexer": "ipython3",
   "version": "3.11.0"
  }
 },
 "nbformat": 4,
 "nbformat_minor": 5
}
