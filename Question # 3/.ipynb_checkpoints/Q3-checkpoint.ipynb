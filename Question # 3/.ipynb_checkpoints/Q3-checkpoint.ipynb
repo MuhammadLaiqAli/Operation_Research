{
 "cells": [
  {
   "cell_type": "markdown",
   "id": "33065887",
   "metadata": {},
   "source": [
    "__Question – 3.3:__\n",
    "\n",
    "X1 = the number of standard Z345’s produced weekly\n",
    "\n",
    "X2 = the number of industrial Z345’s produced weekly\n",
    "\n",
    "X3 = the number of standard W250’s produced weekly\n",
    "\n",
    "X4 = the number of industrial W250’s produced weekly\n",
    "\n",
    "X5 = the total number of products produced weekly\n",
    "\n",
    "__MAX__ 400X1 + 560X2 + 560X3 + 700X4\n",
    "\n",
    "__S.T.__ \n",
    "\n",
    "25X1 + 46X2 + 16X3 + 34X4 <= 2500 (zinc)\n",
    "\n",
    "50X1 + 30X2 + 28X3 + 12X4 <= 2800 (iron)\n",
    "\n",
    "X1 + X2 >= 20 (Min Z345’s)\n",
    "\n",
    "X1 + X2 + X3 + X4 - X5 = 0 (X5 definition)\n",
    "\n",
    "X2 + X4 - .50X5 >= 0 (Industrial min.)\n",
    "\n",
    "X1 + X2 - .75X5 <= 0 (Max Z345’s)\n",
    "\n",
    "X3 + X4 - .75X5 <= 0 (Max W250’s)\n",
    "\n",
    "X1, X2, X3, X4, X5 >= 0\n"
   ]
  },
  {
   "cell_type": "code",
   "execution_count": 6,
   "id": "051c165e",
   "metadata": {},
   "outputs": [],
   "source": [
    "from pulp import*\n",
    "import matplotlib.pyplot as plt\n",
    "import numpy as np"
   ]
  },
  {
   "cell_type": "code",
   "execution_count": 7,
   "id": "69c32713",
   "metadata": {},
   "outputs": [],
   "source": [
    "# create an object of a model\n",
    "prob = LpProblem(\"Simple_Lp_Problem\", LpMaximize)"
   ]
  },
  {
   "cell_type": "code",
   "execution_count": 8,
   "id": "702727b9",
   "metadata": {},
   "outputs": [],
   "source": [
    "# Defining decision variables\n",
    "x1 = LpVariable(\"x1\",0)\n",
    "x2 = LpVariable(\"x2\",0)\n",
    "x3 = LpVariable(\"x3\",0)\n",
    "x4 = LpVariable(\"x4\",0)\n",
    "x5 = LpVariable(\"x5\",0)"
   ]
  },
  {
   "cell_type": "code",
   "execution_count": 9,
   "id": "f281cc83",
   "metadata": {},
   "outputs": [],
   "source": [
    "# Defining objective function\n",
    "prob += 400*x1 + 560*x2+ 560*x3 + 700*x4"
   ]
  },
  {
   "cell_type": "code",
   "execution_count": 14,
   "id": "4e493ff7",
   "metadata": {},
   "outputs": [
    {
     "ename": "PulpError",
     "evalue": "overlapping constraint names: 1st_constraint",
     "output_type": "error",
     "traceback": [
      "\u001b[1;31m---------------------------------------------------------------------------\u001b[0m",
      "\u001b[1;31mPulpError\u001b[0m                                 Traceback (most recent call last)",
      "Input \u001b[1;32mIn [14]\u001b[0m, in \u001b[0;36m<cell line: 2>\u001b[1;34m()\u001b[0m\n\u001b[0;32m      1\u001b[0m \u001b[38;5;66;03m# Defining constraints\u001b[39;00m\n\u001b[1;32m----> 2\u001b[0m prob \u001b[38;5;241m+\u001b[39m\u001b[38;5;241m=\u001b[39m \u001b[38;5;241m25\u001b[39m\u001b[38;5;241m*\u001b[39mx1 \u001b[38;5;241m+\u001b[39m \u001b[38;5;241m46\u001b[39m\u001b[38;5;241m*\u001b[39mx2 \u001b[38;5;241m+\u001b[39m \u001b[38;5;241m16\u001b[39m\u001b[38;5;241m*\u001b[39mx3 \u001b[38;5;241m+\u001b[39m \u001b[38;5;241m34\u001b[39m\u001b[38;5;241m*\u001b[39mx4 \u001b[38;5;241m<\u001b[39m\u001b[38;5;241m=\u001b[39m \u001b[38;5;241m2500\u001b[39m, \u001b[38;5;124m\"\u001b[39m\u001b[38;5;124m1st constraint\u001b[39m\u001b[38;5;124m\"\u001b[39m\n\u001b[0;32m      3\u001b[0m prob \u001b[38;5;241m+\u001b[39m\u001b[38;5;241m=\u001b[39m \u001b[38;5;241m50\u001b[39m\u001b[38;5;241m*\u001b[39mx1 \u001b[38;5;241m+\u001b[39m \u001b[38;5;241m30\u001b[39m\u001b[38;5;241m*\u001b[39mx2 \u001b[38;5;241m+\u001b[39m \u001b[38;5;241m28\u001b[39m\u001b[38;5;241m*\u001b[39mx3 \u001b[38;5;241m+\u001b[39m \u001b[38;5;241m12\u001b[39m\u001b[38;5;241m*\u001b[39mx4 \u001b[38;5;241m<\u001b[39m\u001b[38;5;241m=\u001b[39m \u001b[38;5;241m2800\u001b[39m, \u001b[38;5;124m\"\u001b[39m\u001b[38;5;124m2nd constraint\u001b[39m\u001b[38;5;124m\"\u001b[39m\n\u001b[0;32m      4\u001b[0m prob \u001b[38;5;241m+\u001b[39m\u001b[38;5;241m=\u001b[39m \u001b[38;5;241m1\u001b[39m\u001b[38;5;241m*\u001b[39mx1 \u001b[38;5;241m+\u001b[39m \u001b[38;5;241m1\u001b[39m\u001b[38;5;241m*\u001b[39mx2 \u001b[38;5;241m>\u001b[39m\u001b[38;5;241m=\u001b[39m \u001b[38;5;241m20\u001b[39m, \u001b[38;5;124m\"\u001b[39m\u001b[38;5;124m3rd constraint\u001b[39m\u001b[38;5;124m\"\u001b[39m\n",
      "File \u001b[1;32mD:\\Users\\Dell\\anaconda3\\lib\\site-packages\\pulp\\pulp.py:1518\u001b[0m, in \u001b[0;36mLpProblem.__iadd__\u001b[1;34m(self, other)\u001b[0m\n\u001b[0;32m   1516\u001b[0m     \u001b[38;5;28mself\u001b[39m\u001b[38;5;241m.\u001b[39maddConstraint(other\u001b[38;5;241m.\u001b[39mconstraint)\n\u001b[0;32m   1517\u001b[0m \u001b[38;5;28;01melif\u001b[39;00m \u001b[38;5;28misinstance\u001b[39m(other, LpConstraint):\n\u001b[1;32m-> 1518\u001b[0m     \u001b[38;5;28;43mself\u001b[39;49m\u001b[38;5;241;43m.\u001b[39;49m\u001b[43maddConstraint\u001b[49m\u001b[43m(\u001b[49m\u001b[43mother\u001b[49m\u001b[43m,\u001b[49m\u001b[43m \u001b[49m\u001b[43mname\u001b[49m\u001b[43m)\u001b[49m\n\u001b[0;32m   1519\u001b[0m \u001b[38;5;28;01melif\u001b[39;00m \u001b[38;5;28misinstance\u001b[39m(other, LpAffineExpression):\n\u001b[0;32m   1520\u001b[0m     \u001b[38;5;28;01mif\u001b[39;00m \u001b[38;5;28mself\u001b[39m\u001b[38;5;241m.\u001b[39mobjective \u001b[38;5;129;01mis\u001b[39;00m \u001b[38;5;129;01mnot\u001b[39;00m \u001b[38;5;28;01mNone\u001b[39;00m:\n",
      "File \u001b[1;32mD:\\Users\\Dell\\anaconda3\\lib\\site-packages\\pulp\\pulp.py:1480\u001b[0m, in \u001b[0;36mLpProblem.addConstraint\u001b[1;34m(self, constraint, name)\u001b[0m\n\u001b[0;32m   1478\u001b[0m \u001b[38;5;28;01mif\u001b[39;00m name \u001b[38;5;129;01min\u001b[39;00m \u001b[38;5;28mself\u001b[39m\u001b[38;5;241m.\u001b[39mconstraints:\n\u001b[0;32m   1479\u001b[0m     \u001b[38;5;28;01mif\u001b[39;00m \u001b[38;5;28mself\u001b[39m\u001b[38;5;241m.\u001b[39mnoOverlap:\n\u001b[1;32m-> 1480\u001b[0m         \u001b[38;5;28;01mraise\u001b[39;00m const\u001b[38;5;241m.\u001b[39mPulpError(\u001b[38;5;124m\"\u001b[39m\u001b[38;5;124moverlapping constraint names: \u001b[39m\u001b[38;5;124m\"\u001b[39m \u001b[38;5;241m+\u001b[39m name)\n\u001b[0;32m   1481\u001b[0m     \u001b[38;5;28;01melse\u001b[39;00m:\n\u001b[0;32m   1482\u001b[0m         \u001b[38;5;28mprint\u001b[39m(\u001b[38;5;124m\"\u001b[39m\u001b[38;5;124mWarning: overlapping constraint names:\u001b[39m\u001b[38;5;124m\"\u001b[39m, name)\n",
      "\u001b[1;31mPulpError\u001b[0m: overlapping constraint names: 1st_constraint"
     ]
    }
   ],
   "source": [
    "# Defining constraints\n",
    "prob += 25*x1 + 46*x2 + 16*x3 + 34*x4 <= 2500, \"1st constraint\"\n",
    "prob += 50*x1 + 30*x2 + 28*x3 + 12*x4 <= 2800, \"2nd constraint\"\n",
    "prob += 1*x1 + 1*x2 >= 20, \"3rd constraint\"\n",
    "prob += 1*x1 + 1*x2 + 1*x3 + 1*x4 - 1*x5 == 0, \"4th constraint\"\n",
    "prob += 1*x2 + 1*x4 - 0.50*x5 >= 0, \"5th constraint\"\n",
    "prob += 1*x1 + 1*x2 - 0.75*x5 <= 0, \"6th constraint\"\n",
    "prob += 1*x3 + 1*x4 - 0.75*x5 <= 0, \"7th constraint\""
   ]
  },
  {
   "cell_type": "code",
   "execution_count": 15,
   "id": "8967633f",
   "metadata": {},
   "outputs": [
    {
     "name": "stdout",
     "output_type": "stream",
     "text": [
      "Status:  Not Solved\n"
     ]
    }
   ],
   "source": [
    "# print the result\n",
    "print(\"Status: \",LpStatus[prob.status])"
   ]
  },
  {
   "cell_type": "code",
   "execution_count": 16,
   "id": "6f113aaf",
   "metadata": {},
   "outputs": [
    {
     "name": "stdout",
     "output_type": "stream",
     "text": [
      "x1 = None\n",
      "x2 = None\n",
      "x3 = None\n",
      "x4 = None\n",
      "x5 = None\n"
     ]
    }
   ],
   "source": [
    "for v in prob.variables():\n",
    "    print(v.name, \"=\" , v.varValue)"
   ]
  },
  {
   "cell_type": "code",
   "execution_count": 17,
   "id": "7e43fd42",
   "metadata": {},
   "outputs": [
    {
     "name": "stdout",
     "output_type": "stream",
     "text": [
      "The optimal value of the objective function is =  None\n"
     ]
    }
   ],
   "source": [
    "print(\"The optimal value of the objective function is = \", value(prob.objective))"
   ]
  }
 ],
 "metadata": {
  "kernelspec": {
   "display_name": "Python 3 (ipykernel)",
   "language": "python",
   "name": "python3"
  },
  "language_info": {
   "codemirror_mode": {
    "name": "ipython",
    "version": 3
   },
   "file_extension": ".py",
   "mimetype": "text/x-python",
   "name": "python",
   "nbconvert_exporter": "python",
   "pygments_lexer": "ipython3",
   "version": "3.9.12"
  }
 },
 "nbformat": 4,
 "nbformat_minor": 5
}
