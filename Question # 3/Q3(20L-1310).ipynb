{
 "cells": [
  {
   "cell_type": "markdown",
   "id": "063a3afa-73bd-4cfd-967c-58bb5986a734",
   "metadata": {},
   "source": [
    "## QUESTION 3 PULP SOLVER\n",
    "\n",
    "X1 = the number of standard Z345’s produced weekly\n",
    "\n",
    "X2 = the number of industrial Z345’s produced weekly\n",
    "\n",
    "X3 = the number of standard W250’s produced weekly\n",
    "\n",
    "X4 = the number of industrial W250’s produced weekly\n",
    "\n",
    "X5 = the total number of products produced weekly\n",
    " \n",
    "### MAXIMUM: 400X1 + 560X2 + 560X3 + 700X4\n",
    "\n",
    "### S.T.\n",
    "\n",
    "25X1 + 46X2 + 16X3 + 34X4 <= 2500 (zinc)\n",
    "\n",
    "50X1 + 30X2 + 28X3 + 12X4 <= 2800 (iron)\n",
    "\n",
    "X1 + X2 >= 20 (Min Z345’s)\n",
    "\n",
    "X1 + X2 + X3 + X4 - X5 = 0 (X5 definition)\n",
    "\n",
    "X2 + X4 - .50X5 >= 0 (Industrial min.)\n",
    "\n",
    "X1 + X2 - .75X5 <= 0 (Max Z345’s)\n",
    "\n",
    "X3 + X4 - .75X5 <= 0 (Max W250’s)\n",
    "\n",
    "X1, X2, X3, X4, X5 >= 0\n",
    " "
   ]
  },
  {
   "cell_type": "code",
   "execution_count": 1,
   "id": "85153f30-6a60-4d37-960e-5be8c060057a",
   "metadata": {},
   "outputs": [
    {
     "name": "stdout",
     "output_type": "stream",
     "text": [
      "Status:  Optimal\n",
      "x1 = 22.93578\n",
      "x2 = 0.0\n",
      "x3 = 22.93578\n",
      "x4 = 45.87156\n",
      "x5 = 91.743119\n",
      "The optimal value of the objective function is =  54128.4408\n"
     ]
    }
   ],
   "source": [
    "\n",
    "from pulp import*\n",
    "import matplotlib.pyplot as plt\n",
    "import numpy as np\n",
    "\n",
    "# create an object of a model\n",
    "prob = LpProblem(\"Simple_Lp_Problem\", LpMaximize)\n",
    "\n",
    "# Defining decision variables\n",
    "x1 = LpVariable(\"x1\",0)\n",
    "x2 = LpVariable(\"x2\",0)\n",
    "x3 = LpVariable(\"x3\",0)\n",
    "x4 = LpVariable(\"x4\",0)\n",
    "x5 = LpVariable(\"x5\",0)\n",
    "\n",
    "# Defining objective function\n",
    "prob += 400*x1 + 560*x2+ 560*x3 + 700*x4\n",
    "\n",
    "# Defining constraints\n",
    "prob += 25*x1 + 46*x2 + 16*x3 + 34*x4 <= 2500, \"1st constraint\"\n",
    "prob += 50*x1 + 30*x2 + 28*x3 + 12*x4 <= 2800, \"2nd constraint\"\n",
    "prob += 1*x1 + 1*x2 >= 20, \"3rd constraint\"\n",
    "prob += 1*x1 + 1*x2 + 1*x3 + 1*x4 - 1*x5 == 0, \"4th constraint\"\n",
    "prob += 1*x2 + 1*x4 - 0.50*x5 >= 0, \"5th constraint\"\n",
    "prob += 1*x1 + 1*x2 - 0.75*x5 <= 0, \"6th constraint\"\n",
    "prob += 1*x3 + 1*x4 - 0.75*x5 <= 0, \"7th constraint\"\n",
    "\n",
    "prob.solve()\n",
    "\n",
    "# print the result\n",
    "print(\"Status: \",LpStatus[prob.status])\n",
    "\n",
    "for v in prob.variables():\n",
    "    print(v.name, \"=\" , v.varValue)\n",
    "\n",
    "print(\"The optimal value of the objective function is = \", value(prob.objective))\n"
   ]
  }
 ],
 "metadata": {
  "kernelspec": {
   "display_name": "Python 3 (ipykernel)",
   "language": "python",
   "name": "python3"
  },
  "language_info": {
   "codemirror_mode": {
    "name": "ipython",
    "version": 3
   },
   "file_extension": ".py",
   "mimetype": "text/x-python",
   "name": "python",
   "nbconvert_exporter": "python",
   "pygments_lexer": "ipython3",
   "version": "3.11.0"
  }
 },
 "nbformat": 4,
 "nbformat_minor": 5
}
