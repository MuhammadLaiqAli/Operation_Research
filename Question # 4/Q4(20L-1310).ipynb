{
 "cells": [
  {
   "cell_type": "markdown",
   "id": "cd984619-5645-498b-942e-bc3d14850ce7",
   "metadata": {},
   "source": [
    "## QUESTION 4 PULP SOLVER\n",
    "\n",
    "X1 = amount invested in EAL stock\n",
    "\n",
    "X2 = amount invested in BRU stock\n",
    "\n",
    "X3 = amount invested in TAT stock\n",
    "\n",
    "X4 = amount invested in long term bonds\n",
    "\n",
    "X5 = amount invested in short term bonds\n",
    "\n",
    "X6 = amount invested in the tax deferred annuity\n",
    "\n",
    "X7 = the total amount invested in stocks only\n",
    "\n",
    "### MAXIMUM  .15X1 + .12 X2 + .09X3 + .11X4 + .085X5 + .06X6\n",
    "\n",
    "### S.T.\n",
    "\n",
    "X1 + X2 + X3 + X4 + X5 + X6 = 50,000 (Total)\n",
    "\n",
    "X6 >= 10,000 (TDA)\n",
    "\n",
    "X1 + X2 + X3 - X7 = 0 (Stocks)\n",
    "\n",
    "X3 -.25X7 >= 0 (Min TAT)\n",
    "\n",
    "X4 + X5 - X7 >= 0(Bond  stock)\n",
    "\n",
    "X3 + X5 + X6 <= 12,500 (Low %)\n",
    "\n",
    "All X's >= 0\n"
   ]
  },
  {
   "cell_type": "code",
   "execution_count": 1,
   "id": "47166516-e67b-40f7-9b1f-ef6db534436d",
   "metadata": {},
   "outputs": [
    {
     "name": "stdout",
     "output_type": "stream",
     "text": [
      "Status:  Optimal\n",
      "x1 = 7500.0\n",
      "x2 = 0.0\n",
      "x3 = 2500.0\n",
      "x4 = 30000.0\n",
      "x5 = 0.0\n",
      "x6 = 10000.0\n",
      "x7 = 10000.0\n",
      "The optimal value of the objective function is =  5250.0\n"
     ]
    }
   ],
   "source": [
    "\n",
    "from pulp import*\n",
    "import matplotlib.pyplot as plt\n",
    "import numpy as np\n",
    "\n",
    "# create an object of a model\n",
    "prob = LpProblem(\"Simple_Lp_Problem\", LpMaximize)\n",
    "\n",
    "# Defining decision variables\n",
    "x1 = LpVariable(\"x1\",0)\n",
    "x2 = LpVariable(\"x2\",0)\n",
    "x3 = LpVariable(\"x3\",0)\n",
    "x4 = LpVariable(\"x4\",0)\n",
    "x5 = LpVariable(\"x5\",0)\n",
    "x6 = LpVariable(\"x6\",0)\n",
    "x7 = LpVariable(\"x7\",0)\n",
    "\n",
    "# Defining the objective Function\n",
    "prob += 0.15*x1 + 0.12*x2 + 0.09*x3 + 0.11*x4 + 0.085*x5 + 0.06*x6\n",
    "\n",
    "# Defining the constraints\n",
    "prob += 1*x1 + 1*x2 + 1*x3 + 1*x4 + 1*x5 + 1*x6 == 50000, \"1st constraint\"\n",
    "prob += 1*x6 >= 10000, \"2nd constraint\"\n",
    "prob += 1*x1 + 1*x2 + 1*x3 - 1*x7 == 0, \"3rd constraint\"\n",
    "prob += 1*x3 - 0.25*x7 >= 0, \"4th constraint\"\n",
    "prob += 1*x4 + 1*x5 - 1*x7 >= 0, \"5th constraint\"\n",
    "prob += 1*x3 + 1*x5 + 1*x6 <= 12500, \"6th constraint\"\n",
    "\n",
    "# solve the linear programming problem\n",
    "prob.solve()\n",
    "\n",
    "# print the result\n",
    "print(\"Status: \",LpStatus[prob.status])\n",
    "\n",
    "for v in prob.variables():\n",
    "    print(v.name, \"=\" , v.varValue)\n",
    "    \n",
    "print(\"The optimal value of the objective function is = \", value(prob.objective))\n"
   ]
  }
 ],
 "metadata": {
  "kernelspec": {
   "display_name": "Python 3 (ipykernel)",
   "language": "python",
   "name": "python3"
  },
  "language_info": {
   "codemirror_mode": {
    "name": "ipython",
    "version": 3
   },
   "file_extension": ".py",
   "mimetype": "text/x-python",
   "name": "python",
   "nbconvert_exporter": "python",
   "pygments_lexer": "ipython3",
   "version": "3.11.0"
  }
 },
 "nbformat": 4,
 "nbformat_minor": 5
}
