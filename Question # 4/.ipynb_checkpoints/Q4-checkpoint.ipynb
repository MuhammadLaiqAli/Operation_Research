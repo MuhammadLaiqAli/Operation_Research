{
 "cells": [
  {
   "cell_type": "markdown",
   "id": "8e4d9760",
   "metadata": {},
   "source": [
    "__Question – 3.4:__\n",
    "\n",
    "X1 = amount invested in EAL stock\n",
    "\n",
    "X2 = amount invested in BRU stock\n",
    "\n",
    "X3 = amount invested in TAT stock\n",
    "\n",
    "X4 = amount invested in long term bonds\n",
    "\n",
    "X5 = amount invested in short term bonds\n",
    "\n",
    "X6 = amount invested in the tax deferred annuity\n",
    "\n",
    "X7 = the total amount invested in stocks only\n",
    "\n",
    "__MAX__  .15X1 + .12 X2 + .09X3 + .11X4 + .085X5 + .06X6\n",
    "\n",
    "__S.T.__\n",
    "\n",
    "X1 + X2 + X3 + X4 + X5 + X6 = 50,000 (Total)\n",
    "\n",
    "X6 >= 10,000 (TDA)\n",
    "\n",
    "X1 + X2 + X3 - X7 = 0 (Stocks)\n",
    "\n",
    "X3 -.25X7 >= 0 (Min TAT)\n",
    "\n",
    "X4 + X5 - X7 >= 0(Bond  stock)\n",
    "\n",
    "X3 + X5 + X6 <= 12,500 (Low %)\n",
    "\n",
    "All X's >= 0\n"
   ]
  },
  {
   "cell_type": "code",
   "execution_count": 1,
   "id": "138296bf",
   "metadata": {},
   "outputs": [],
   "source": [
    "from pulp import*\n",
    "import matplotlib.pyplot as plt\n",
    "import numpy as np"
   ]
  },
  {
   "cell_type": "code",
   "execution_count": 2,
   "id": "ff8dcb79",
   "metadata": {},
   "outputs": [],
   "source": [
    "# create an object of a model\n",
    "prob = LpProblem(\"Simple_Lp_Problem\", LpMaximize)"
   ]
  },
  {
   "cell_type": "code",
   "execution_count": 3,
   "id": "44958c95",
   "metadata": {},
   "outputs": [],
   "source": [
    "# Defining decision variables\n",
    "x1 = LpVariable(\"x1\",0)\n",
    "x2 = LpVariable(\"x2\",0)\n",
    "x3 = LpVariable(\"x3\",0)\n",
    "x4 = LpVariable(\"x4\",0)\n",
    "x5 = LpVariable(\"x5\",0)\n",
    "x6 = LpVariable(\"x6\",0)\n",
    "x7 = LpVariable(\"x7\",0)"
   ]
  },
  {
   "cell_type": "code",
   "execution_count": 4,
   "id": "57da0ec2",
   "metadata": {},
   "outputs": [],
   "source": [
    "# Defining the objective Function\n",
    "prob += 0.15*x1 + 0.12*x2 + 0.09*x3 + 0.11*x4 + 0.085*x5 + 0.06*x6"
   ]
  },
  {
   "cell_type": "code",
   "execution_count": 5,
   "id": "88ddb0a3",
   "metadata": {},
   "outputs": [],
   "source": [
    "# Defining the constraints\n",
    "prob += 1*x1 + 1*x2 + 1*x3 + 1*x4 + 1*x5 + 1*x6 == 50000, \"1st constraint\"\n",
    "prob += 1*x6 >= 10000, \"2nd constraint\"\n",
    "prob += 1*x1 + 1*x2 + 1*x3 - 1*x7 == 0, \"3rd constraint\"\n",
    "prob += 1*x3 - .25*x7 >= 0, \"4th constraint\"\n",
    "prob += 1*x4 + 1*x5 - 1*x7 >= 0, \"5th constraint\"\n",
    "prob += 1*x3 + 1*x5 + 1*x6 <= 12500, \"6th constraint\""
   ]
  },
  {
   "cell_type": "code",
   "execution_count": 6,
   "id": "8aa54f87",
   "metadata": {},
   "outputs": [
    {
     "ename": "PulpSolverError",
     "evalue": "PuLP: Error while executing glpsol.exe",
     "output_type": "error",
     "traceback": [
      "\u001b[1;31m---------------------------------------------------------------------------\u001b[0m",
      "\u001b[1;31mPulpSolverError\u001b[0m                           Traceback (most recent call last)",
      "\u001b[1;32m~\\AppData\\Local\\Temp\\ipykernel_7672\\3128977504.py\u001b[0m in \u001b[0;36m<module>\u001b[1;34m\u001b[0m\n\u001b[0;32m      1\u001b[0m \u001b[1;31m# solve the linear programming problem\u001b[0m\u001b[1;33m\u001b[0m\u001b[1;33m\u001b[0m\u001b[0m\n\u001b[1;32m----> 2\u001b[1;33m \u001b[0mprob\u001b[0m\u001b[1;33m.\u001b[0m\u001b[0msolve\u001b[0m\u001b[1;33m(\u001b[0m\u001b[1;33m)\u001b[0m\u001b[1;33m\u001b[0m\u001b[1;33m\u001b[0m\u001b[0m\n\u001b[0m",
      "\u001b[1;32m~\\anaconda3\\lib\\site-packages\\pulp\\pulp.py\u001b[0m in \u001b[0;36msolve\u001b[1;34m(self, solver, **kwargs)\u001b[0m\n\u001b[0;32m   1911\u001b[0m         \u001b[1;31m# time it\u001b[0m\u001b[1;33m\u001b[0m\u001b[1;33m\u001b[0m\u001b[0m\n\u001b[0;32m   1912\u001b[0m         \u001b[0mself\u001b[0m\u001b[1;33m.\u001b[0m\u001b[0mstartClock\u001b[0m\u001b[1;33m(\u001b[0m\u001b[1;33m)\u001b[0m\u001b[1;33m\u001b[0m\u001b[1;33m\u001b[0m\u001b[0m\n\u001b[1;32m-> 1913\u001b[1;33m         \u001b[0mstatus\u001b[0m \u001b[1;33m=\u001b[0m \u001b[0msolver\u001b[0m\u001b[1;33m.\u001b[0m\u001b[0mactualSolve\u001b[0m\u001b[1;33m(\u001b[0m\u001b[0mself\u001b[0m\u001b[1;33m,\u001b[0m \u001b[1;33m**\u001b[0m\u001b[0mkwargs\u001b[0m\u001b[1;33m)\u001b[0m\u001b[1;33m\u001b[0m\u001b[1;33m\u001b[0m\u001b[0m\n\u001b[0m\u001b[0;32m   1914\u001b[0m         \u001b[0mself\u001b[0m\u001b[1;33m.\u001b[0m\u001b[0mstopClock\u001b[0m\u001b[1;33m(\u001b[0m\u001b[1;33m)\u001b[0m\u001b[1;33m\u001b[0m\u001b[1;33m\u001b[0m\u001b[0m\n\u001b[0;32m   1915\u001b[0m         \u001b[0mself\u001b[0m\u001b[1;33m.\u001b[0m\u001b[0mrestoreObjective\u001b[0m\u001b[1;33m(\u001b[0m\u001b[0mwasNone\u001b[0m\u001b[1;33m,\u001b[0m \u001b[0mdummyVar\u001b[0m\u001b[1;33m)\u001b[0m\u001b[1;33m\u001b[0m\u001b[1;33m\u001b[0m\u001b[0m\n",
      "\u001b[1;32m~\\anaconda3\\lib\\site-packages\\pulp\\apis\\glpk_api.py\u001b[0m in \u001b[0;36mactualSolve\u001b[1;34m(self, lp)\u001b[0m\n\u001b[0;32m    113\u001b[0m \u001b[1;33m\u001b[0m\u001b[0m\n\u001b[0;32m    114\u001b[0m         \u001b[1;32mif\u001b[0m \u001b[1;32mnot\u001b[0m \u001b[0mos\u001b[0m\u001b[1;33m.\u001b[0m\u001b[0mpath\u001b[0m\u001b[1;33m.\u001b[0m\u001b[0mexists\u001b[0m\u001b[1;33m(\u001b[0m\u001b[0mtmpSol\u001b[0m\u001b[1;33m)\u001b[0m\u001b[1;33m:\u001b[0m\u001b[1;33m\u001b[0m\u001b[1;33m\u001b[0m\u001b[0m\n\u001b[1;32m--> 115\u001b[1;33m             \u001b[1;32mraise\u001b[0m \u001b[0mPulpSolverError\u001b[0m\u001b[1;33m(\u001b[0m\u001b[1;34m\"PuLP: Error while executing \"\u001b[0m \u001b[1;33m+\u001b[0m \u001b[0mself\u001b[0m\u001b[1;33m.\u001b[0m\u001b[0mpath\u001b[0m\u001b[1;33m)\u001b[0m\u001b[1;33m\u001b[0m\u001b[1;33m\u001b[0m\u001b[0m\n\u001b[0m\u001b[0;32m    116\u001b[0m         \u001b[0mstatus\u001b[0m\u001b[1;33m,\u001b[0m \u001b[0mvalues\u001b[0m \u001b[1;33m=\u001b[0m \u001b[0mself\u001b[0m\u001b[1;33m.\u001b[0m\u001b[0mreadsol\u001b[0m\u001b[1;33m(\u001b[0m\u001b[0mtmpSol\u001b[0m\u001b[1;33m)\u001b[0m\u001b[1;33m\u001b[0m\u001b[1;33m\u001b[0m\u001b[0m\n\u001b[0;32m    117\u001b[0m         \u001b[0mlp\u001b[0m\u001b[1;33m.\u001b[0m\u001b[0massignVarsVals\u001b[0m\u001b[1;33m(\u001b[0m\u001b[0mvalues\u001b[0m\u001b[1;33m)\u001b[0m\u001b[1;33m\u001b[0m\u001b[1;33m\u001b[0m\u001b[0m\n",
      "\u001b[1;31mPulpSolverError\u001b[0m: PuLP: Error while executing glpsol.exe"
     ]
    }
   ],
   "source": [
    "# solve the linear programming problem\n",
    "prob.solve()"
   ]
  },
  {
   "cell_type": "code",
   "execution_count": 7,
   "id": "a098058c",
   "metadata": {},
   "outputs": [
    {
     "name": "stdout",
     "output_type": "stream",
     "text": [
      "Status:  Optimal\n"
     ]
    }
   ],
   "source": [
    "# print the result\n",
    "print(\"Status: \",LpStatus[prob.status])"
   ]
  },
  {
   "cell_type": "code",
   "execution_count": 8,
   "id": "3289c38a",
   "metadata": {},
   "outputs": [
    {
     "name": "stdout",
     "output_type": "stream",
     "text": [
      "x1 = 7500.0\n",
      "x2 = 0.0\n",
      "x3 = 2500.0\n",
      "x4 = 30000.0\n",
      "x5 = 0.0\n",
      "x6 = 10000.0\n",
      "x7 = 10000.0\n"
     ]
    }
   ],
   "source": [
    "for v in prob.variables():\n",
    "    print(v.name, \"=\" , v.varValue)"
   ]
  },
  {
   "cell_type": "code",
   "execution_count": 9,
   "id": "e6593cb9",
   "metadata": {},
   "outputs": [
    {
     "name": "stdout",
     "output_type": "stream",
     "text": [
      "The optimal value of the objective function is =  5250.0\n"
     ]
    }
   ],
   "source": [
    "print(\"The optimal value of the objective function is = \", value(prob.objective))"
   ]
  },
  {
   "cell_type": "code",
   "execution_count": null,
   "id": "f600955a",
   "metadata": {},
   "outputs": [],
   "source": []
  }
 ],
 "metadata": {
  "kernelspec": {
   "display_name": "Python 3 (ipykernel)",
   "language": "python",
   "name": "python3"
  },
  "language_info": {
   "codemirror_mode": {
    "name": "ipython",
    "version": 3
   },
   "file_extension": ".py",
   "mimetype": "text/x-python",
   "name": "python",
   "nbconvert_exporter": "python",
   "pygments_lexer": "ipython3",
   "version": "3.9.13"
  }
 },
 "nbformat": 4,
 "nbformat_minor": 5
}
