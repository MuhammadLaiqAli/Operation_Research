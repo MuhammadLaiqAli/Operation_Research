{
 "cells": [
  {
   "cell_type": "markdown",
   "id": "cd984619-5645-498b-942e-bc3d14850ce7",
   "metadata": {},
   "source": [
    "## QUESTION 4 PULP SOLVER\n",
    "\n",
    "X1 = amount invested in EAL stock\n",
    "\n",
    "X2 = amount invested in BRU stock\n",
    "\n",
    "X3 = amount invested in TAT stock\n",
    "\n",
    "X4 = amount invested in long term bonds\n",
    "\n",
    "X5 = amount invested in short term bonds\n",
    "\n",
    "X6 = amount invested in the tax deferred annuity\n",
    "\n",
    "X7 = the total amount invested in stocks only\n",
    "\n",
    "### MAXIMUM  .15X1 + .12 X2 + .09X3 + .11X4 + .085X5 + .06X6\n",
    "\n",
    "### S.T.\n",
    "\n",
    "X1 + X2 + X3 + X4 + X5 + X6 = 50,000 (Total)\n",
    "\n",
    "X6 >= 10,000 (TDA)\n",
    "\n",
    "X1 + X2 + X3 - X7 = 0 (Stocks)\n",
    "\n",
    "X3 -.25X7 >= 0 (Min TAT)\n",
    "\n",
    "X4 + X5 - X7 >= 0(Bond  stock)\n",
    "\n",
    "X3 + X5 + X6 <= 12,500 (Low %)\n",
    "\n",
    "All X's >= 0\n"
   ]
  }
 ],
 "metadata": {
  "kernelspec": {
   "display_name": "Python 3 (ipykernel)",
   "language": "python",
   "name": "python3"
  },
  "language_info": {
   "codemirror_mode": {
    "name": "ipython",
    "version": 3
   },
   "file_extension": ".py",
   "mimetype": "text/x-python",
   "name": "python",
   "nbconvert_exporter": "python",
   "pygments_lexer": "ipython3",
   "version": "3.11.0"
  }
 },
 "nbformat": 4,
 "nbformat_minor": 5
}
