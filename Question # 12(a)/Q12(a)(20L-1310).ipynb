{
 "cells": [
  {
   "cell_type": "markdown",
   "id": "e559e221-9b4b-4796-ac99-1cc703c9fad5",
   "metadata": {},
   "source": [
    "## QUESTION 12(a) PULP SOLVER\n",
    "\n",
    "X1 = Number of plates made per day\n",
    "\n",
    "X2 = Number of mugs made per day\n",
    "\n",
    "X3 = Number of steins made per day\n",
    "\n",
    "X4 = Total daily production\n",
    "\n",
    "### MAXIMUM: 2.50X1 + 3.25X2 + 3.90X3\n",
    "\n",
    "### S.T.\n",
    "\n",
    "2X1 + 3X2 + 6X3 <= 1920 ((4)(8)(60) Molding min.)\n",
    "\n",
    "8X1 + 12X2 + 14X3 <= 3840 ((8)(8)(60) Finishing min.)\n",
    "\n",
    "X2 >= 150 (Minimum mugs)\n",
    "\n",
    "-2X1 - 2X2 + X3 <= 0 (Steins <= 2(Plates + Mugs)\n",
    "\n",
    "X1 + X2 + X3 - X4 = 0 (Total Definition)\n",
    "\n",
    "X1 - .3X4 <= 0 (Plates <= 30% Total Produced)\n",
    "\n",
    "All X's >= 0"
   ]
  },
  {
   "cell_type": "code",
   "execution_count": 1,
   "id": "f3fc1bea-4cc9-4017-b236-12164e945b27",
   "metadata": {},
   "outputs": [
    {
     "name": "stdout",
     "output_type": "stream",
     "text": [
      "Status:  Optimal\n",
      "x1 = 101.80328\n",
      "x2 = 150.0\n",
      "x3 = 87.540984\n",
      "x4 = 339.34426\n",
      "The optimal value of the objective function is =  1083.4180376\n"
     ]
    }
   ],
   "source": [
    "\n",
    "from pulp import*\n",
    "import matplotlib.pyplot as plt\n",
    "import numpy as np\n",
    "\n",
    "# create an object of a model\n",
    "prob = LpProblem(\"Simple_Lp_Problem\", LpMaximize)\n",
    "\n",
    "# Defining decision variables\n",
    "x1 = LpVariable(\"x1\",0)\n",
    "x2 = LpVariable(\"x2\",0)\n",
    "x3 = LpVariable(\"x3\",0)\n",
    "x4 = LpVariable(\"x4\",0)\n",
    "\n",
    "# Defining the objective Function\n",
    "prob += 2.50*x1 + 3.25*x2 + 3.90*x3\n",
    "\n",
    "# Defining the constraints\n",
    "prob += 2*x1 + 3*x2 + 6*x3 <= 1920, \"1st constraint\"\n",
    "prob += 8*x1 + 12*x2 + 14*x3 <= 3840, \"2nd constraint\"\n",
    "prob += 1*x2 >= 150, \"3rd constraint\"\n",
    "prob += -2*x1 - 2*x2 + 1*x3 <= 0 , \"4th constraint\"\n",
    "prob += 1*x1 + 1*x2 + 1*x3 - 1*x4 == 0 , \"5th constraint\"\n",
    "prob += 1*x1 - 0.3*x4 <= 0, \"6th constraint\"\n",
    "\n",
    "# solve the linear programming problem\n",
    "prob.solve()\n",
    "\n",
    "# print the result\n",
    "print(\"Status: \",LpStatus[prob.status])\n",
    "\n",
    "for v in prob.variables():\n",
    "    print(v.name, \"=\" , v.varValue)\n",
    "   \n",
    "print(\"The optimal value of the objective function is = \", value(prob.objective))"
   ]
  }
 ],
 "metadata": {
  "kernelspec": {
   "display_name": "Python 3 (ipykernel)",
   "language": "python",
   "name": "python3"
  },
  "language_info": {
   "codemirror_mode": {
    "name": "ipython",
    "version": 3
   },
   "file_extension": ".py",
   "mimetype": "text/x-python",
   "name": "python",
   "nbconvert_exporter": "python",
   "pygments_lexer": "ipython3",
   "version": "3.11.0"
  }
 },
 "nbformat": 4,
 "nbformat_minor": 5
}
