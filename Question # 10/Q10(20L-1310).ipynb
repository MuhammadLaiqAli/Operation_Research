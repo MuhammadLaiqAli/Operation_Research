{
 "cells": [
  {
   "cell_type": "markdown",
   "id": "6431adf9-4d3e-4c1b-9942-094ac17c4a7a",
   "metadata": {},
   "source": [
    "## QUESTION 10 PULP SOLVER\n",
    "\n",
    "X1 = the number of ounces of Multigrain Cheerios in the mixture\n",
    "\n",
    "X2 = the number of ounces of Grape Nuts in the mixture\n",
    "\n",
    "X3 = the number of ounces of Product 19 in the mixture\n",
    "\n",
    "X4 = the number of ounces of Frosted Bran in the mixture\n",
    "\n",
    "X5 = the total number of ounces in the mixture\n",
    "\n",
    "### MINIMUM: 12X1 + 9X2 + 9X3 + 15X4\n",
    "\n",
    "### S.T.\n",
    "\n",
    "30X1 + 30X2 + 20X3 + 20X4 >= 50 (Vitamin A)\n",
    "\n",
    "25X1 + 2X2 + 100X3 + 25X4 >= 50 (Vitamin C)\n",
    "\n",
    "25X1 + 25X2 + 25X3 + 25X4 >= 50 (Vitamin D)\n",
    "\n",
    "25X1 + 25X2 + 100X3 + 25X4 >= 50 (Vitamin B6)\n",
    "\n",
    "45X1 + 45X2 + 100X3 + 25X4 >= 50 (Iron)\n",
    "\n",
    "X1 + X2 + X3 + X4 - X5 = 0 (Total)\n",
    "\n",
    "X1 - .1X5 >= 0 (>= 10% M/G Cheerios)\n",
    "\n",
    "X2 - .1X5 >= 0 (>= 10% Grape Nuts)\n",
    "\n",
    "X3 - .1X5 >= 0 (>= 10% Product 19)\n",
    "\n",
    "X4 - .1X5 >= 0 (>= 10% Frosted Bran)\n",
    "\n",
    "All X's >= 0"
   ]
  },
  {
   "cell_type": "code",
   "execution_count": 2,
   "id": "7d148f18-8775-40f3-bc9e-d18fd2c4a92e",
   "metadata": {},
   "outputs": [
    {
     "name": "stdout",
     "output_type": "stream",
     "text": [
      "Status:  Optimal\n",
      "x1 = 0.2\n",
      "x2 = 1.2244898\n",
      "x3 = 0.3755102\n",
      "x4 = 0.2\n",
      "x5 = 2.0\n",
      "The optimal value of the objective function is =  19.8\n"
     ]
    }
   ],
   "source": [
    "\n",
    "from pulp import*\n",
    "import matplotlib.pyplot as plt\n",
    "import numpy as np\n",
    "\n",
    "# create an object of a model\n",
    "prob = LpProblem(\"Simple_Lp_Problem\", LpMinimize)\n",
    "\n",
    "# Defining decision variables\n",
    "x1 = LpVariable(\"x1\",0)\n",
    "x2 = LpVariable(\"x2\",0)\n",
    "x3 = LpVariable(\"x3\",0)\n",
    "x4 = LpVariable(\"x4\",0)\n",
    "x5 = LpVariable(\"x5\",0)\n",
    "\n",
    "# Defining the objective Function\n",
    "prob += 12*x1 + 9*x2 + 9*x3 + 15*x4\n",
    "\n",
    "# Defining the constraints\n",
    "prob += 30*x1 + 30*x2 + 20*x3 + 20*x4 >= 50, \"1st constraint\"\n",
    "prob += 25*x1 + 2*x2 + 100*x3 + 25*x4 >= 50, \"2nd constraint\"\n",
    "prob += 25*x1 + 25*x2 + 25*x3 + 25*x4 >= 50, \"3rd constraint\"\n",
    "prob += 25*x1 + 25*x2 + 100*x3 + 25*x4 >= 50 , \"4th constraint\"\n",
    "prob += 45*x1 + 45*x2 + 100*x3 + 25*x4 >= 50, \"5th constraint\"\n",
    "prob += 1*x1 + 1*x2 + 1*x3 + 1*x4 - 1*x5 == 0, \"6th constraint\"\n",
    "prob += 1*x1 - 0.1*x5 >= 0, \"7th constraint\"\n",
    "prob += 1*x2 - 0.1*x5 >= 0, \"8th constraint\"\n",
    "prob += 1*x3 - 0.1*x5 >= 0, \"9th constraint\"\n",
    "prob += 1*x4 - 0.1*x5 >= 0, \"10th constraint\"\n",
    "\n",
    "# solve the linear programming problem\n",
    "prob.solve()\n",
    "\n",
    "# print the result\n",
    "print(\"Status: \",LpStatus[prob.status])\n",
    "\n",
    "for v in prob.variables():\n",
    "    print(v.name, \"=\" , v.varValue)\n",
    "    \n",
    "print(\"The optimal value of the objective function is = \", value(prob.objective))"
   ]
  }
 ],
 "metadata": {
  "kernelspec": {
   "display_name": "Python 3 (ipykernel)",
   "language": "python",
   "name": "python3"
  },
  "language_info": {
   "codemirror_mode": {
    "name": "ipython",
    "version": 3
   },
   "file_extension": ".py",
   "mimetype": "text/x-python",
   "name": "python",
   "nbconvert_exporter": "python",
   "pygments_lexer": "ipython3",
   "version": "3.11.0"
  }
 },
 "nbformat": 4,
 "nbformat_minor": 5
}
