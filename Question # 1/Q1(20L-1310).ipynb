{
 "cells": [
  {
   "cell_type": "markdown",
   "id": "90e55779-edca-4b89-9a5f-76f4734fadf8",
   "metadata": {
    "tags": []
   },
   "source": [
    "## QUESTION 1 (PULP SOLVER)\n",
    "X1 = Number of 20-inch girls bicycles produced this week\n",
    "\n",
    "X2 = Number of 20-inch boys bicycles produced this week\n",
    "\n",
    "X3 = Number of 26-inch girls bicycles produced this week\n",
    "\n",
    "X4 = Number of 26-inch boys bicycles produced this week\n",
    "\n",
    "### __MAX:__ 27X1 + 32X2 + 38X3 + 51X4\n",
    "\n",
    "### __S.T.__\n",
    "\n",
    "X1 + X3 >= 200 (Min girls models)\n",
    "\n",
    "X2 + X4 >= 200 (Min boys models)\n",
    "\n",
    "12X1 + 12X2 + 9X3 + 9X4 <= 4800 (Production minutes)\n",
    "\n",
    "6X1 + 9X2 + 12X3 + 18X4 <= 4800 (Assembly minutes)\n",
    "\n",
    "2X1 + 2X2 <= 500 (20-inch tires)\n",
    "\n",
    "2X3 + 2X4 <= 800 (26-inch tires)\n",
    "\n",
    "All X's >= 0"
   ]
  },
  {
   "cell_type": "code",
   "execution_count": 5,
   "id": "36ff7ffb-2769-41a9-96df-b9e674ccbf36",
   "metadata": {
    "tags": []
   },
   "outputs": [
    {
     "name": "stdout",
     "output_type": "stream",
     "text": [
      "Status:  Optimal\n",
      "x1 = 150.0\n",
      "x2 = 100.0\n",
      "x3 = 100.0\n",
      "x4 = 100.0\n",
      "The optimal value of the objective function is =  16150.0\n"
     ]
    }
   ],
   "source": [
    "\n",
    "from pulp import*\n",
    "import matplotlib.pyplot as plt\n",
    "import numpy as np\n",
    "\n",
    "### create an object of a model\n",
    "prob = LpProblem(\"Simple_Lp_Problem\", LpMaximize)\n",
    "\n",
    "### Defining decision variables\n",
    "x1 = LpVariable(\"x1\",0)\n",
    "x2 = LpVariable(\"x2\",0)\n",
    "x3 = LpVariable(\"x3\",0)\n",
    "x4 = LpVariable(\"x4\",0)\n",
    "\n",
    "### Defining the objective Function\n",
    "prob += 27*x1 +32*x2 +38*x3 +51*x4\n",
    "\n",
    "### Defining the constraints\n",
    "prob += 1*x1 + 1*x3 >= 200, \"1st constraint\"\n",
    "prob += 1*x2 + 1*x4 >= 200, \"2nd constraint\"\n",
    "prob += 12*x1 + 12*x2 + 9*x3 + 9*x4 <= 4800, \"3rd constraint\"\n",
    "prob += 6*x1 + 9*x2 + 12*x3 + 18*x4 <= 4800, \"4th constraint\"\n",
    "prob += 2*x1 + 2*x2 <= 500, \"5th constraint\"\n",
    "prob += 2*x3 + 2*x4 <= 800, \"6th constraint\"\n",
    "\n",
    "### solve the linear programming problem\n",
    "prob.solve()\n",
    "\n",
    "### print the result\n",
    "print(\"Status: \",LpStatus[prob.status])\n",
    "\n",
    "for v in prob.variables():\n",
    "    print(v.name, \"=\" , v.varValue)\n",
    "    \n",
    "print(\"The optimal value of the objective function is = \", value(prob.objective))\n"
   ]
  }
 ],
 "metadata": {
  "kernelspec": {
   "display_name": "Python 3 (ipykernel)",
   "language": "python",
   "name": "python3"
  },
  "language_info": {
   "codemirror_mode": {
    "name": "ipython",
    "version": 3
   },
   "file_extension": ".py",
   "mimetype": "text/x-python",
   "name": "python",
   "nbconvert_exporter": "python",
   "pygments_lexer": "ipython3",
   "version": "3.11.0"
  }
 },
 "nbformat": 4,
 "nbformat_minor": 5
}
