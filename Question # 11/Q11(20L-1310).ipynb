{
 "cells": [
  {
   "cell_type": "markdown",
   "id": "ce3e4747-0b62-4aab-8ae0-d02e036a8f19",
   "metadata": {},
   "source": [
    "## QUESTION 11 PULP SOLVER\n",
    "\n",
    "X1 = Number of refrigerator/ovens produced\n",
    "\n",
    "X2 = Number of French fry makers produced\n",
    "\n",
    "X3 = Number of French toast makers produced\n",
    "\n",
    "### MINIMUM: 140X1 + 50X2 + 36X3\n",
    "\n",
    "### S.T.\n",
    "\n",
    "100X1 + 35X2 + 27X3 >= 2,000,000 (Min Profit)\n",
    "\n",
    "X1 >= 5,000 (Min Refrig/oven)\n",
    "\n",
    "X2 >= 4,000 (Min French fry maker)\n",
    "\n",
    "X3 >= 2,300 (Min French toast maker)\n",
    "\n",
    "X1 <= 15,000 (Max Refrig/oven)\n",
    "\n",
    "X2 <= 15,000 (Max French fry maker)\n",
    "\n",
    "X3 <= 15,000 (Max French toast maker)"
   ]
  },
  {
   "cell_type": "code",
   "execution_count": 1,
   "id": "bb9b06d3-1f2c-4130-9e5f-b3a9b8d67948",
   "metadata": {},
   "outputs": [
    {
     "name": "stdout",
     "output_type": "stream",
     "text": [
      "Status:  Optimal\n",
      "x1 = 14550.0\n",
      "x2 = 4000.0\n",
      "x3 = 15000.0\n",
      "The optimal value of the objective function is =  2777000.0\n"
     ]
    }
   ],
   "source": [
    "\n",
    "from pulp import*\n",
    "import matplotlib.pyplot as plt\n",
    "import numpy as np\n",
    "\n",
    "# create an object of a model\n",
    "prob = LpProblem(\"Simple_Lp_Problem\", LpMinimize)\n",
    "\n",
    "# Defining decision variables\n",
    "x1 = LpVariable(\"x1\",0)\n",
    "x2 = LpVariable(\"x2\",0)\n",
    "x3 = LpVariable(\"x3\",0)\n",
    "\n",
    "# Defining the objective Function\n",
    "prob += 140*x1 + 50*x2 + 36*x3\n",
    "\n",
    "# Defining the constraints\n",
    "prob += 100*x1 + 35*x2 + 27*x3 >= 2000000 , \"1st constraint\"\n",
    "prob += 1*x1 >= 5000, \"2nd constraint\"\n",
    "prob += 1*x2 >= 4000, \"3rd constraint\"\n",
    "prob += 1*x3 >= 2300, \"4th constraint\"\n",
    "prob += 1*x1 <= 15000, \"5th constraint\"\n",
    "prob += 1*x2 <= 15000 , \"6th constraint\"\n",
    "prob += 1*x3 <= 15000 , \"7th constraint\"\n",
    "\n",
    "# solve the linear programming problem\n",
    "prob.solve()\n",
    "\n",
    "# print the result\n",
    "print(\"Status: \",LpStatus[prob.status])\n",
    "\n",
    "for v in prob.variables():\n",
    "    print(v.name, \"=\" , v.varValue)\n",
    " \n",
    "print(\"The optimal value of the objective function is = \", value(prob.objective))"
   ]
  }
 ],
 "metadata": {
  "kernelspec": {
   "display_name": "Python 3 (ipykernel)",
   "language": "python",
   "name": "python3"
  },
  "language_info": {
   "codemirror_mode": {
    "name": "ipython",
    "version": 3
   },
   "file_extension": ".py",
   "mimetype": "text/x-python",
   "name": "python",
   "nbconvert_exporter": "python",
   "pygments_lexer": "ipython3",
   "version": "3.11.0"
  }
 },
 "nbformat": 4,
 "nbformat_minor": 5
}
