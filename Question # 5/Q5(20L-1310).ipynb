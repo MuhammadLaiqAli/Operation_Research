{
 "cells": [
  {
   "cell_type": "markdown",
   "id": "bebe3148-fd5f-48df-811f-853bd5340b1f",
   "metadata": {},
   "source": [
    "#  QUESTION 5 PULP SOLVER\n",
    "\n",
    "Unit Profit\n",
    "\n",
    "19-3(.50)-55(.20) = 6.50\n",
    "\n",
    "26-4(.50)-75(.20) = 9.00\n",
    "\n",
    "32-6(.50)-95(.20) = 10.00\n",
    "\n",
    "X1 = Number of full comforters produced daily              \n",
    "\n",
    "X2 = Number of queen comforters produced daily             \n",
    "\n",
    "X3 = Number of king comforters produced daily              \n",
    "\n",
    "### MAXIMUM 6.50X1 + 9.00X2 + 10.00X3\n",
    "\n",
    "### S.T.\n",
    "\n",
    "3X1 + 4X2 + 6X3 <= 2,700 (Stuffing)\n",
    "\n",
    "55X1 + 75X2 + 95X3 <= 48,000 (Fabric)\n",
    "\n",
    "3X1 + 5X2 + 6X3 <= 3,000 (Cutting minutes)\n",
    "\n",
    "5X1 + 6X2 + 8X3 <= 12,000 (Sewing minutes)\n",
    "\n",
    "All X's >= 120\n"
   ]
  },
  {
   "cell_type": "code",
   "execution_count": 1,
   "id": "1d9320c2-b3ef-452b-9459-b94789c36a8a",
   "metadata": {},
   "outputs": [
    {
     "name": "stdout",
     "output_type": "stream",
     "text": [
      "Status:  Optimal\n",
      "x1 = 240.0\n",
      "x2 = 312.0\n",
      "x3 = 120.0\n",
      "The optimal value of the objective function is =  5568.0\n"
     ]
    }
   ],
   "source": [
    "from pulp import*\n",
    "import matplotlib.pyplot as plt\n",
    "import numpy as np\n",
    "\n",
    "# create an object of a model\n",
    "prob = LpProblem(\"Simple_Lp_Problem\", LpMaximize)\n",
    "\n",
    "# Defining decision variables\n",
    "x1 = LpVariable(\"x1\",120)\n",
    "x2 = LpVariable(\"x2\",120)\n",
    "x3 = LpVariable(\"x3\",120)\n",
    "\n",
    "# Defining the objective Function\n",
    "prob += 6.50*x1 + 9.00*x2 + 10.00*x3\n",
    "\n",
    "# Defining the constraints\n",
    "prob += 3*x1 + 4*x2 + 6*x3 <= 2700, \"1st constraint\"\n",
    "prob += 55*x1 + 75*x2 + 95*x3 <= 48000, \"2nd constraint\"\n",
    "prob += 3*x1 + 5*x2 + 6*x3 <= 3000, \"3rd constraint\"\n",
    "prob += 5*x1 + 6*x2 + 8*x3 <= 12000, \"4th constraint\"\n",
    "\n",
    "# solve the linear programming problem\n",
    "prob.solve()\n",
    "\n",
    "# print the result\n",
    "print(\"Status: \",LpStatus[prob.status])\n",
    "\n",
    "for v in prob.variables():\n",
    "    print(v.name, \"=\" , v.varValue)\n",
    "\n",
    "print(\"The optimal value of the objective function is = \", value(prob.objective))"
   ]
  }
 ],
 "metadata": {
  "kernelspec": {
   "display_name": "Python 3 (ipykernel)",
   "language": "python",
   "name": "python3"
  },
  "language_info": {
   "codemirror_mode": {
    "name": "ipython",
    "version": 3
   },
   "file_extension": ".py",
   "mimetype": "text/x-python",
   "name": "python",
   "nbconvert_exporter": "python",
   "pygments_lexer": "ipython3",
   "version": "3.11.0"
  }
 },
 "nbformat": 4,
 "nbformat_minor": 5
}
