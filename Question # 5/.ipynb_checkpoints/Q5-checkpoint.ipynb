{
 "cells": [
  {
   "cell_type": "markdown",
   "id": "5eccf23c",
   "metadata": {},
   "source": [
    "# __Question – 3.5:__\n",
    "\n",
    " __Unit Profit__\n",
    " \n",
    "19-3(.50)-55(.20) = 6.50\n",
    "\n",
    "26-4(.50)-75(.20) = 9.00\n",
    "\n",
    "32-6(.50)-95(.20) = 10.00\n",
    "                                                          \n",
    "X1 = Number of full comforters produced daily              \n",
    "\n",
    "X2 = Number of queen comforters produced daily             \n",
    "\n",
    "X3 = Number of king comforters produced daily              \n",
    "\n",
    "__MAX__ 6.50X1 + 9.00X2 + 10.00X3\n",
    "\n",
    "__S.T.__\n",
    "\n",
    "3X1 + 4X2 + 6X3 <= 2,700 (Stuffing)\n",
    "\n",
    "55X1 + 75X2 + 95X3 <= 48,000 (Fabric)\n",
    "\n",
    "3X1 + 5X2 + 6X3 <= 3,000 (Cutting minutes)\n",
    "\n",
    "5X1 + 6X2 + 8X3 <= 12,000 (Sewing minutes)\n",
    "\n",
    "All X's >= 120\n"
   ]
  },
  {
   "cell_type": "code",
   "execution_count": 1,
   "id": "96b6032c",
   "metadata": {},
   "outputs": [],
   "source": [
    "from pulp import*\n",
    "import matplotlib.pyplot as plt\n",
    "import numpy as np"
   ]
  },
  {
   "cell_type": "code",
   "execution_count": 2,
   "id": "f7d46a66",
   "metadata": {},
   "outputs": [],
   "source": [
    "# create an object of a model\n",
    "prob = LpProblem(\"Simple_Lp_Problem\", LpMaximize)"
   ]
  },
  {
   "cell_type": "code",
   "execution_count": 4,
   "id": "f64ee6cc",
   "metadata": {},
   "outputs": [],
   "source": [
    "# Defining decision variables\n",
    "x1 = LpVariable(\"x1\",120)\n",
    "x2 = LpVariable(\"x2\",120)\n",
    "x3 = LpVariable(\"x3\",120)"
   ]
  },
  {
   "cell_type": "code",
   "execution_count": 5,
   "id": "3f171d45",
   "metadata": {},
   "outputs": [],
   "source": [
    "# Defining the objective Function\n",
    "prob += 6.50*x1 + 9.00*x2 + 10.00*x3"
   ]
  },
  {
   "cell_type": "code",
   "execution_count": 6,
   "id": "c0ba5bf9",
   "metadata": {},
   "outputs": [],
   "source": [
    "# Defining the constraints\n",
    "prob += 3*x1 + 4*x2 + 6*x3 <= 2700, \"1st constraint\"\n",
    "prob += 55*x1 + 75*x2 + 95*x3 <= 48000, \"2nd constraint\"\n",
    "prob += 3*x1 + 5*x2 + 6*x3 <= 3000, \"3rd constraint\"\n",
    "prob += 5*x1 + 6*x2 + 8*x3 <= 12000, \"4th constraint\""
   ]
  },
  {
   "cell_type": "code",
   "execution_count": 7,
   "id": "4342c1f3",
   "metadata": {},
   "outputs": [
    {
     "data": {
      "text/plain": [
       "1"
      ]
     },
     "execution_count": 7,
     "metadata": {},
     "output_type": "execute_result"
    }
   ],
   "source": [
    "# solve the linear programming problem\n",
    "prob.solve()"
   ]
  },
  {
   "cell_type": "code",
   "execution_count": 8,
   "id": "9673391c",
   "metadata": {},
   "outputs": [
    {
     "name": "stdout",
     "output_type": "stream",
     "text": [
      "Status:  Optimal\n"
     ]
    }
   ],
   "source": [
    "# print the result\n",
    "print(\"Status: \",LpStatus[prob.status])"
   ]
  },
  {
   "cell_type": "code",
   "execution_count": 9,
   "id": "c78b765e",
   "metadata": {},
   "outputs": [
    {
     "name": "stdout",
     "output_type": "stream",
     "text": [
      "x1 = 240.0\n",
      "x2 = 312.0\n",
      "x3 = 120.0\n"
     ]
    }
   ],
   "source": [
    "for v in prob.variables():\n",
    "    print(v.name, \"=\" , v.varValue)"
   ]
  },
  {
   "cell_type": "code",
   "execution_count": 10,
   "id": "3ef84266",
   "metadata": {},
   "outputs": [
    {
     "name": "stdout",
     "output_type": "stream",
     "text": [
      "The optimal value of the objective function is =  5568.0\n"
     ]
    }
   ],
   "source": [
    "print(\"The optimal value of the objective function is = \", value(prob.objective))"
   ]
  }
 ],
 "metadata": {
  "kernelspec": {
   "display_name": "Python 3 (ipykernel)",
   "language": "python",
   "name": "python3"
  },
  "language_info": {
   "codemirror_mode": {
    "name": "ipython",
    "version": 3
   },
   "file_extension": ".py",
   "mimetype": "text/x-python",
   "name": "python",
   "nbconvert_exporter": "python",
   "pygments_lexer": "ipython3",
   "version": "3.9.12"
  }
 },
 "nbformat": 4,
 "nbformat_minor": 5
}
