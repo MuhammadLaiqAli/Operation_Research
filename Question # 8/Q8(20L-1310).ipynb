{
 "cells": [
  {
   "cell_type": "markdown",
   "id": "23dccece-4436-405a-901e-2986d31dd041",
   "metadata": {},
   "source": [
    "## QUESTION 8 PULP SOLVER\n",
    "\n",
    "X1 = the number of Delta assemblies produced daily\n",
    "\n",
    "X2 = the number of Omega assemblies produced daily\n",
    "\n",
    "X3 = the number of Theta assemblies produced daily\n",
    "\n",
    "### MAXIMUM 800X1 + 900X2 + 600X3\n",
    "\n",
    "### S.T.\n",
    "\n",
    "X1 + X2 + X3 <= 7 (X70686 chips)\n",
    "\n",
    "2X1 + X2 + X3 <= 8 (Production hours)\n",
    "\n",
    "80X1 + 160X2 + 80X3 <= 480 (Quality minutes)\n",
    "\n",
    "All X's >= 0"
   ]
  },
  {
   "cell_type": "code",
   "execution_count": 2,
   "id": "6280e9a8-33af-455a-9d93-1ed6e0b9042d",
   "metadata": {},
   "outputs": [
    {
     "name": "stdout",
     "output_type": "stream",
     "text": [
      "Status:  Optimal\n",
      "x1 = 2.0\n",
      "x2 = 0.0\n",
      "x3 = 4.0\n",
      "The optimal value of the objective function is =  4000.0\n"
     ]
    }
   ],
   "source": [
    "\n",
    "from pulp import*\n",
    "import matplotlib.pyplot as plt\n",
    "import numpy as np\n",
    "\n",
    "\n",
    "# create an object of a model\n",
    "prob = LpProblem(\"Simple_Lp_Problem\", LpMaximize)\n",
    "\n",
    "# Defining decision variables\n",
    "x1 = LpVariable(\"x1\",0)\n",
    "x2 = LpVariable(\"x2\",0)\n",
    "x3 = LpVariable(\"x3\",0)\n",
    "\n",
    "# Defining the objective Function\n",
    "prob += 800*x1 + 900*x2 + 600*x3\n",
    "\n",
    "# Defining the constraints\n",
    "prob += 1*x1 + 1*x2 + 1*x3 <= 7, \"1st constraint\"\n",
    "prob += 2*x1 + 1*x2 + 1*x3 <= 8, \"2nd constraint\"\n",
    "prob += 80*x1 + 160*x2 + 80*x3 <= 480, \"3rd constraint\"\n",
    "\n",
    "# solve the linear programming problem\n",
    "prob.solve()\n",
    "\n",
    "# print the result\n",
    "print(\"Status: \",LpStatus[prob.status])\n",
    "\n",
    "for v in prob.variables():\n",
    "    print(v.name, \"=\" , v.varValue)\n",
    "\n",
    "print(\"The optimal value of the objective function is = \", value(prob.objective))\n",
    "\n",
    "\n",
    "\n",
    "\n",
    "\n"
   ]
  }
 ],
 "metadata": {
  "kernelspec": {
   "display_name": "Python 3 (ipykernel)",
   "language": "python",
   "name": "python3"
  },
  "language_info": {
   "codemirror_mode": {
    "name": "ipython",
    "version": 3
   },
   "file_extension": ".py",
   "mimetype": "text/x-python",
   "name": "python",
   "nbconvert_exporter": "python",
   "pygments_lexer": "ipython3",
   "version": "3.11.0"
  }
 },
 "nbformat": 4,
 "nbformat_minor": 5
}
