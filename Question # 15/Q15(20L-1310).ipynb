{
 "cells": [
  {
   "cell_type": "markdown",
   "id": "d94d758c-a9c8-4eb8-ad7c-e6148ef94ec1",
   "metadata": {},
   "source": [
    "## QUESTION 15 PULP SOLVER\n",
    "\n",
    "X1 = the number of acres of wheat planted\n",
    "\n",
    "X2 = the number of acres of corn planted\n",
    "\n",
    "X3 = the number of acres of oats planted\n",
    "\n",
    "X4 = the number of acres of soybeans planted\n",
    "\n",
    "__Profit coefficients__ are 210($3.20) - $50 = $622, 300($2.55) - $75 = $690,\n",
    "\n",
    "180($1.45) - $30 = $231, and 240($3.10) - $60 = $684 respectively.\n",
    "\n",
    "### __MAX__ 622X1 + 690X2 + 231X3 + 684X4\n",
    "\n",
    "### __S.T.__\n",
    "\n",
    "4X1 + 5X2 + 3X3 + 10X4 <= 1,800 (Labor hours)\n",
    "\n",
    "50X1 + 75X2 + 30X3 + 60X4 <= 25,000 (Expenses)\n",
    "\n",
    "2X1 + 6X2 + X3 + 4X4 <= 1,200 (Water)\n",
    "\n",
    "210X1 >= 30,000 (Min. Wheat)\n",
    "\n",
    "300X2 >= 30,000 (Min. Corn)\n",
    "\n",
    "180X3 <= 25,000 (Max Oats)\n",
    "\n",
    "X1 + X2 + X3 + X4 <= 300 (Total acres)\n",
    "\n",
    "All X's >= 0"
   ]
  },
  {
   "cell_type": "code",
   "execution_count": 1,
   "id": "202fdcdf-5728-4903-b4a0-8135ff585b59",
   "metadata": {},
   "outputs": [
    {
     "name": "stdout",
     "output_type": "stream",
     "text": [
      "Status:  Optimal\n",
      "x1 = 142.85714\n",
      "x2 = 142.85714\n",
      "x3 = 0.0\n",
      "x4 = 14.285714\n",
      "The optimal value of the objective function is =  197199.99605599997\n"
     ]
    }
   ],
   "source": [
    "\n",
    "from pulp import*\n",
    "import matplotlib.pyplot as plt\n",
    "import numpy as np\n",
    "\n",
    "# create an object of a model\n",
    "prob = LpProblem(\"Simple_Lp_Problem\", LpMaximize)\n",
    "\n",
    "# Defining decision variables\n",
    "x1 = LpVariable(\"x1\",0)\n",
    "x2 = LpVariable(\"x2\",0)\n",
    "x3 = LpVariable(\"x3\",0)\n",
    "x4 = LpVariable(\"x4\",0)\n",
    "\n",
    "# Defining the objective Function\n",
    "prob += 622*x1 + 690*x2 + 231*x3 + 684*x4\n",
    "\n",
    "# Defining the constraints\n",
    "prob += 4*x1 + 5*x2 + 3*x3 + 10*x4 <= 1800, \"1st constraint\"\n",
    "prob += 50*x1 + 75*x2 + 30*x3 + 60*x4 <= 25000, \"2nd constraint\"\n",
    "prob += 2*x1 + 6*x2 + 1*x3 + 4*x4 <= 1200, \"3rd constraint\"\n",
    "prob += 210*x1 >= 30000, \"4th constraint\"\n",
    "prob += 300*x2 >= 30000 , \"5th constraint\"\n",
    "prob += 180*x3 <= 25000, \"6th constraint\"\n",
    "prob += 1*x1 + 1*x2 + 1*x3 + 1*x4 <= 300, \"7th constraint\"\n",
    "\n",
    "# solve the linear programming problem\n",
    "prob.solve()\n",
    "\n",
    "# print the result\n",
    "print(\"Status: \",LpStatus[prob.status])\n",
    "\n",
    "for v in prob.variables():\n",
    "    print(v.name, \"=\" , v.varValue)\n",
    "    \n",
    "print(\"The optimal value of the objective function is = \", value(prob.objective))"
   ]
  }
 ],
 "metadata": {
  "kernelspec": {
   "display_name": "Python 3 (ipykernel)",
   "language": "python",
   "name": "python3"
  },
  "language_info": {
   "codemirror_mode": {
    "name": "ipython",
    "version": 3
   },
   "file_extension": ".py",
   "mimetype": "text/x-python",
   "name": "python",
   "nbconvert_exporter": "python",
   "pygments_lexer": "ipython3",
   "version": "3.11.0"
  }
 },
 "nbformat": 4,
 "nbformat_minor": 5
}
