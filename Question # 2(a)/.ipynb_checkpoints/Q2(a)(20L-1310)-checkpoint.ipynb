{
 "cells": [
  {
   "cell_type": "markdown",
   "id": "2807f496-07b7-4216-8dd7-14c75bc6d484",
   "metadata": {},
   "source": [
    "\n",
    "## QUESTION 2(a) PULP SOLVER\n",
    "\n",
    "X1 = Number of stoves produced weekly\n",
    "\n",
    "X2 = Number of washers produced weekly\n",
    "\n",
    "X3 = Number of electric dryers produced weekly\n",
    "\n",
    "X4 = Number of gas dryers produced weekly\n",
    "\n",
    "X5 = Number of refrigerators produced weekly\n",
    "\n",
    "### MAXIMUM : 110X1 + 90X2 + 75X3 + 80X4 + 130X5\n",
    "\n",
    "### S.T.\n",
    "5.5X1 + 5.2X2 + 5.0X3 + 5.1X4 + 7.5X5 <= 4800 (Molding/pressing)\n",
    "\n",
    "4.5X1 <= 1200 (Stove assembly)\n",
    "\n",
    "4.5X2 + 4.0X3 + 3.0X4 <= 2400 (Washer/dryer assembly)\n",
    "\n",
    "9.0X5 <= 1200 (Refrigerator assembly)\n",
    "\n",
    "4.0X1 + 3.0X2 + 2.5X3 + 2.0X4 + 4.0X5 <= 3000 (Packaging)\n",
    "\n",
    "All X's >= 0   "
   ]
  },
  {
   "cell_type": "code",
   "execution_count": 4,
   "id": "44f71b75-0706-4c86-9167-e90d68638c49",
   "metadata": {},
   "outputs": [
    {
     "name": "stdout",
     "output_type": "stream",
     "text": [
      "Status:  Optimal\n",
      "x1 = 266.66667\n",
      "x2 = 448.71795\n",
      "x3 = 0.0\n",
      "x4 = 0.0\n",
      "x5 = 133.33333\n",
      "The optimal value of the objective function is =  87051.2821\n"
     ]
    }
   ],
   "source": [
    "\n",
    "from pulp import*\n",
    "import matplotlib.pyplot as plt\n",
    "import numpy as np\n",
    "\n",
    "# create an object of a model\n",
    "prob = LpProblem(\"Simple_Lp_Problem\", LpMaximize)\n",
    "\n",
    "# Defining decision variables\n",
    "x1 = LpVariable(\"x1\",0)\n",
    "x2 = LpVariable(\"x2\",0)\n",
    "x3 = LpVariable(\"x3\",0)\n",
    "x4 = LpVariable(\"x4\",0)\n",
    "x5 = LpVariable(\"x5\",0)\n",
    "\n",
    "# Defining objective function\n",
    "prob += 110*x1 + 90*x2 + 75*x3 + 80*x4 + 130*x5\n",
    "\n",
    "# Defining Constraints\n",
    "prob += 5.5*x1 + 5.2*x2 + 5.0*x3 + 5.1*x4 + 7.5*x5 <= 4800, \"1st constraint\"\n",
    "prob += 4.5*x1 <= 1200, \"2nd constraint\"\n",
    "prob += 4.5*x2 +4.0*x3 + 3.0*x4 <= 2400, \"3rd constraint\"\n",
    "prob += 9.0*x5 <= 1200, \"4th constraint\"\n",
    "prob += 4.0*x1 + 3.0*x2 + 2.5*x3 + 2.0*x4 + 4.0*x5 <= 3000, \"5th constraint\"\n",
    "\n",
    "prob.solve()\n",
    "\n",
    "# print the result\n",
    "print(\"Status: \",LpStatus[prob.status])\n",
    "\n",
    "for v in prob.variables():\n",
    "    print(v.name, \"=\" , v.varValue)\n",
    "    \n",
    "print(\"The optimal value of the objective function is = \", value(prob.objective))\n"
   ]
  }
 ],
 "metadata": {
  "kernelspec": {
   "display_name": "Python 3 (ipykernel)",
   "language": "python",
   "name": "python3"
  },
  "language_info": {
   "codemirror_mode": {
    "name": "ipython",
    "version": 3
   },
   "file_extension": ".py",
   "mimetype": "text/x-python",
   "name": "python",
   "nbconvert_exporter": "python",
   "pygments_lexer": "ipython3",
   "version": "3.11.0"
  }
 },
 "nbformat": 4,
 "nbformat_minor": 5
}
